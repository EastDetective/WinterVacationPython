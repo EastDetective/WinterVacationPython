{
 "cells": [
  {
   "cell_type": "markdown",
   "metadata": {},
   "source": [
    "# 人口密度與GDP是否有關？"
   ]
  },
  {
   "cell_type": "code",
   "execution_count": 1,
   "metadata": {},
   "outputs": [
    {
     "data": {
      "text/html": [
       "<div>\n",
       "<style scoped>\n",
       "    .dataframe tbody tr th:only-of-type {\n",
       "        vertical-align: middle;\n",
       "    }\n",
       "\n",
       "    .dataframe tbody tr th {\n",
       "        vertical-align: top;\n",
       "    }\n",
       "\n",
       "    .dataframe thead th {\n",
       "        text-align: right;\n",
       "    }\n",
       "</style>\n",
       "<table border=\"1\" class=\"dataframe\">\n",
       "  <thead>\n",
       "    <tr style=\"text-align: right;\">\n",
       "      <th></th>\n",
       "      <th>No.</th>\n",
       "      <th>country</th>\n",
       "      <th>people</th>\n",
       "      <th>area(kilometer)</th>\n",
       "      <th>density (per square kilometer)</th>\n",
       "      <th>gdp</th>\n",
       "      <th>hdi</th>\n",
       "    </tr>\n",
       "  </thead>\n",
       "  <tbody>\n",
       "    <tr>\n",
       "      <th>0</th>\n",
       "      <td>2</td>\n",
       "      <td>Singapore</td>\n",
       "      <td>5612300</td>\n",
       "      <td>720</td>\n",
       "      <td>7796</td>\n",
       "      <td>323902</td>\n",
       "      <td>0.932</td>\n",
       "    </tr>\n",
       "    <tr>\n",
       "      <th>1</th>\n",
       "      <td>10</td>\n",
       "      <td>Taiwan</td>\n",
       "      <td>23562318</td>\n",
       "      <td>36197</td>\n",
       "      <td>651</td>\n",
       "      <td>613295</td>\n",
       "      <td>0.907</td>\n",
       "    </tr>\n",
       "    <tr>\n",
       "      <th>2</th>\n",
       "      <td>13</td>\n",
       "      <td>Korea</td>\n",
       "      <td>48754657</td>\n",
       "      <td>99600</td>\n",
       "      <td>490</td>\n",
       "      <td>1538030</td>\n",
       "      <td>0.903</td>\n",
       "    </tr>\n",
       "    <tr>\n",
       "      <th>3</th>\n",
       "      <td>23</td>\n",
       "      <td>India</td>\n",
       "      <td>1189172906</td>\n",
       "      <td>3287590</td>\n",
       "      <td>362</td>\n",
       "      <td>2611012</td>\n",
       "      <td>0.640</td>\n",
       "    </tr>\n",
       "    <tr>\n",
       "      <th>4</th>\n",
       "      <td>27</td>\n",
       "      <td>Japan</td>\n",
       "      <td>127270000</td>\n",
       "      <td>377835</td>\n",
       "      <td>337</td>\n",
       "      <td>4872135</td>\n",
       "      <td>0.909</td>\n",
       "    </tr>\n",
       "  </tbody>\n",
       "</table>\n",
       "</div>"
      ],
      "text/plain": [
       "   No.    country      people  area(kilometer)  \\\n",
       "0    2  Singapore     5612300              720   \n",
       "1   10     Taiwan    23562318            36197   \n",
       "2   13      Korea    48754657            99600   \n",
       "3   23      India  1189172906          3287590   \n",
       "4   27      Japan   127270000           377835   \n",
       "\n",
       "   density (per square kilometer)      gdp    hdi  \n",
       "0                            7796   323902  0.932  \n",
       "1                             651   613295  0.907  \n",
       "2                             490  1538030  0.903  \n",
       "3                             362  2611012  0.640  \n",
       "4                             337  4872135  0.909  "
      ]
     },
     "execution_count": 1,
     "metadata": {},
     "output_type": "execute_result"
    }
   ],
   "source": [
    "%matplotlib inline\n",
    "import matplotlib.pyplot as plt\n",
    "import pandas as pd\n",
    "import numpy as np\n",
    "\n",
    "density_data = pd.read_csv('density.csv')\n",
    "density_data"
   ]
  },
  {
   "cell_type": "markdown",
   "metadata": {},
   "source": [
    "##人口密度"
   ]
  },
  {
   "cell_type": "code",
   "execution_count": 2,
   "metadata": {},
   "outputs": [
    {
     "data": {
      "text/plain": [
       "Text(0, 0.5, 'Density')"
      ]
     },
     "execution_count": 2,
     "metadata": {},
     "output_type": "execute_result"
    },
    {
     "data": {
      "image/png": "[encoded data removed]",
      "text/plain": [
       "<Figure size 720x504 with 1 Axes>"
      ]
     },
     "metadata": {
      "needs_background": "light"
     },
     "output_type": "display_data"
    }
   ],
   "source": [
    "\n",
    "fig = plt.figure(figsize=(10, 7))\n",
    "\n",
    "plt.bar(density_data['country'], density_data['density (per square kilometer)'],\n",
    "            color=['#008AB8'], width=0.8, align='center', edgecolor='none')\n",
    "    \n",
    "\n",
    "plt.xlabel('Country')\n",
    "plt.ylabel('Density')"
   ]
  },
  {
   "cell_type": "markdown",
   "metadata": {},
   "source": [
    "## GDP"
   ]
  },
  {
   "cell_type": "code",
   "execution_count": 3,
   "metadata": {},
   "outputs": [
    {
     "data": {
      "text/plain": [
       "Text(0, 0.5, 'GDP (2017)')"
      ]
     },
     "execution_count": 3,
     "metadata": {},
     "output_type": "execute_result"
    },
    {
     "data": {
      "image/png": "[encoded data removed]",
      "text/plain": [
       "<Figure size 432x288 with 1 Axes>"
      ]
     },
     "metadata": {
      "needs_background": "light"
     },
     "output_type": "display_data"
    }
   ],
   "source": [
    "gdp_data = pd.read_csv('density.csv')\n",
    "plt.bar(gdp_data['country'], gdp_data['gdp'],\n",
    "            color=['#AA4411'], width=0.8, align='center', edgecolor='none')\n",
    "\n",
    "\n",
    "\n",
    "plt.xlabel('Country')\n",
    "plt.ylabel('GDP (2017)')"
   ]
  },
  {
   "cell_type": "markdown",
   "metadata": {},
   "source": [
    "## 那麼，人類發展指數呢？\n",
    "是聯合國開發計劃署從1990年開始發布用以衡量各國社會經濟發展程度的標準，並依此將各國劃分為：極高、高、中、低共四組。"
   ]
  },
  {
   "cell_type": "code",
   "execution_count": 4,
   "metadata": {
    "scrolled": false
   },
   "outputs": [
    {
     "data": {
      "text/plain": [
       "Text(0, 0.5, 'HDI (2017)')"
      ]
     },
     "execution_count": 4,
     "metadata": {},
     "output_type": "execute_result"
    },
    {
     "data": {
      "image/png": "[encoded data removed]",
      "text/plain": [
       "<Figure size 432x288 with 1 Axes>"
      ]
     },
     "metadata": {
      "needs_background": "light"
     },
     "output_type": "display_data"
    }
   ],
   "source": [
    "hdi_data = pd.read_csv('density.csv')\n",
    "plt.bar(hdi_data['country'], hdi_data['hdi'],\n",
    "            color=['#1144AA'], width=0.8, align='center', edgecolor='none')\n",
    "\n",
    "\n",
    "\n",
    "plt.xlabel('Country')\n",
    "plt.ylabel('HDI (2017)')"
   ]
  },
  {
   "cell_type": "markdown",
   "metadata": {},
   "source": [
    "## 識字率又是如何？"
   ]
  },
  {
   "cell_type": "code",
   "execution_count": null,
   "metadata": {},
   "outputs": [],
   "source": [
    "hdi_data = pd.read_csv('density.csv')\n",
    "plt.bar(hdi_data['country'], hdi_data['lr'],\n",
    "            color=['#1144AA'], width=0.8, align='center', edgecolor='none')\n",
    "\n",
    "\n",
    "\n",
    "plt.xlabel('Country')\n",
    "plt.ylabel('Literacy rate (2015)')"
   ]
  }
 ],
 "metadata": {
  "kernelspec": {
   "display_name": "Python 3",
   "language": "python",
   "name": "python3"
  },
  "language_info": {
   "codemirror_mode": {
    "name": "ipython",
    "version": 3
   },
   "file_extension": ".py",
   "mimetype": "text/x-python",
   "name": "python",
   "nbconvert_exporter": "python",
   "pygments_lexer": "ipython3",
   "version": "3.7.2"
  }
 },
 "nbformat": 4,
 "nbformat_minor": 1
}
